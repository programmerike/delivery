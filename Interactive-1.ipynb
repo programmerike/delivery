{
 "cells": [
  {
   "cell_type": "markdown",
   "metadata": {},
   "source": [
    "Connected to Python 3.13.2"
   ]
  },
  {
   "cell_type": "code",
   "execution_count": null,
   "id": "9a8d2691-8690-4bdc-8d22-27c443be2058",
   "metadata": {},
   "outputs": [
    {
     "name": "stdout",
     "output_type": "stream",
     "text": [
      "The answer is 600\n",
      "The result is 70\n",
      "Printing current and previous number and their sum in a range(10)\n",
      "Current number 0 Previous number 0 sum: 0\n",
      "Current number 1 Previous number 0 sum: 1\n",
      "Current number 2 Previous number 1 sum: 3\n",
      "Current number 3 Previous number 2 sum: 5\n",
      "Current number 4 Previous number 3 sum: 7\n",
      "Current number 5 Previous number 4 sum: 9\n",
      "Current number 6 Previous number 5 sum: 11\n",
      "Current number 7 Previous number 6 sum: 13\n",
      "Current number 8 Previous number 7 sum: 15\n",
      "Current number 9 Previous number 8 sum: 17\n"
     ]
    }
   ],
   "source": [
    "#Exercise 1: Calculate the multiplication and sum of two numbers\n",
    "def multiplication_of_sum(num1, num2):\n",
    "    #calculate product of two\n",
    "    product = num1 * num2\n",
    "\n",
    "    #check if product is less than 1000\n",
    "    if product <= 1000:\n",
    "        return product\n",
    "    else:\n",
    "    #product is greater than 1000 calculate sum \n",
    "        return num1 + num2\n",
    "\n",
    "#result\n",
    "result = multiplication_of_sum(20,30)\n",
    "print(\"The answer is\", result)\n",
    "\n",
    "result1 = multiplication_of_sum(40, 30)\n",
    "print(\"The result is\", result1)\n",
    "\n",
    "#Exercise 2: Print the Sum of a Current Number and a Previous number\n",
    "print(\"Printing current and previous number and their sum in a range(10)\")\n",
    "previous_num = 0\n",
    "for i in range(10):\n",
    "   x_sum = previous_num + i\n",
    "   print(\"Current number\", i, \"Previous number\", previous_num, \"sum:\", x_sum )\n",
    "\n",
    "   previous_num = i\n",
    "\n",
    "\n",
    "#Exercise 3: Print characters present at an even index number\n",
    "word = input(\"What is the word for today? \")\n",
    "\n",
    "#red_bucket = input(\"What do you wanna put in the bucket? \")\n",
    "#print(\"You now have a\", red_bucket ,\"in the bucket\")"
   ]
  },
  {
   "cell_type": "code",
   "execution_count": null,
   "id": "bd4ca3c2-aa7c-4605-a681-1902c72a05cf",
   "metadata": {},
   "outputs": [],
   "source": [
    "#Exercise 1: Calculate the multiplication and sum of two numbers\n",
    "def multiplication_of_sum(num1, num2):\n",
    "    #calculate product of two\n",
    "    product = num1 * num2\n",
    "\n",
    "    #check if product is less than 1000\n",
    "    if product <= 1000:\n",
    "        return product\n",
    "    else:\n",
    "    #product is greater than 1000 calculate sum \n",
    "        return num1 + num2\n",
    "\n",
    "#result\n",
    "result = multiplication_of_sum(20,30)\n",
    "print(\"The answer is\", result)\n",
    "\n",
    "result1 = multiplication_of_sum(40, 30)\n",
    "print(\"The result is\", result1)\n",
    "\n",
    "#Exercise 2: Print the Sum of a Current Number and a Previous number\n",
    "print(\"Printing current and previous number and their sum in a range(10)\")\n",
    "previous_num = 0\n",
    "for i in range(10):\n",
    "   x_sum = previous_num + i\n",
    "   print(\"Current number\", i, \"Previous number\", previous_num, \"sum:\", x_sum )\n",
    "\n",
    "   previous_num = i\n",
    "\n",
    "\n",
    "#Exercise 3: Print characters present at an even index number\n",
    "word = input(\"What is the word for today? \")\n",
    "\n",
    "\n",
    "red_bucket = input(\"What do you wanna put in the bucket? \")\n",
    "print(\"You now have a\", red_bucket ,\"in the bucket\")"
   ]
  },
  {
   "cell_type": "markdown",
   "metadata": {},
   "source": [
    "No kernel connected"
   ]
  },
  {
   "cell_type": "markdown",
   "metadata": {},
   "source": [
    "No kernel connected"
   ]
  }
 ],
 "metadata": {
  "kernelspec": {
   "display_name": "Python 3",
   "language": "python",
   "name": "python3"
  },
  "language_info": {
   "name": "python",
   "version": "3.13.2"
  }
 },
 "nbformat": 4,
 "nbformat_minor": 2
}
